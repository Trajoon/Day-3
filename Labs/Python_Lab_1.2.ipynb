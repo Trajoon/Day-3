{
 "cells": [
  {
   "cell_type": "markdown",
   "metadata": {},
   "source": [
    "# Python_Lab_1.2"
   ]
  },
  {
   "cell_type": "markdown",
   "metadata": {},
   "source": [
    "### Task 1: \n",
    "1. Create a tuple with the following details:\n",
    "    - Your favorite movie (string)\n",
    "    - The year it was released (integer)\n",
    "    - Its rating out of 10 (float)\n",
    "    - Whether you have watched it (boolean)\n",
    "2. Print the detailes"
   ]
  },
  {
   "cell_type": "code",
   "execution_count": 2,
   "metadata": {},
   "outputs": [
    {
     "name": "stdout",
     "output_type": "stream",
     "text": [
      "Favorite Movie Details:\n",
      "Title: Interstellar\n",
      "Year Released: 2014\n",
      "Rating: 8.7\n",
      "Watched: True\n"
     ]
    }
   ],
   "source": [
    "favoriteMovie = (\"Interstellar\", 2014, 8.7, True)\n",
    "print(\"Favorite Movie Details:\")\n",
    "print(f\"Title: {favoriteMovie[0]}\")\n",
    "print(f\"Year Released: {favoriteMovie[1]}\")\n",
    "print(f\"Rating: {favoriteMovie[2]}\")\n",
    "print(f\"Watched: {favoriteMovie[3]}\")"
   ]
  },
  {
   "cell_type": "markdown",
   "metadata": {},
   "source": [
    "### Task 2:\n",
    "1. Create a set of 5 favorite colors.\n",
    "2. Print all the colors"
   ]
  },
  {
   "cell_type": "code",
   "execution_count": 3,
   "metadata": {},
   "outputs": [
    {
     "name": "stdout",
     "output_type": "stream",
     "text": [
      "{'Teal', 'Blue', 'Turquoise', 'Aqua', 'Sea Green'}\n"
     ]
    }
   ],
   "source": [
    "favoriteColors = {\"Aqua\", \"Turquoise\", \"Teal\", \"Blue\", \"Sea Green\"}\n",
    "print(favoriteColors)"
   ]
  },
  {
   "cell_type": "markdown",
   "metadata": {},
   "source": [
    "### Task 3:\n",
    "1. Create a dictionary to store information about 3 friends (name as key and a tuple with age and favorite hobby as value).\n",
    "2. Print the details of all friends."
   ]
  },
  {
   "cell_type": "code",
   "execution_count": null,
   "metadata": {},
   "outputs": [],
   "source": [
    "friends_info = {\n",
    "    \"Abdullah\": (25, \"Football\"),\n",
    "    \"Firas\": (29, \"Gaming\"),\n",
    "    \"Faisal\": (26, \"Swimming\")\n",
    "}"
   ]
  },
  {
   "cell_type": "markdown",
   "metadata": {},
   "source": [
    "### Task 4:\n",
    "1. Check if you have watched the movie and print an appropriate message.\n",
    "1. Check if a specific color is in your favorite colors set and print its availability status."
   ]
  },
  {
   "cell_type": "code",
   "execution_count": 4,
   "metadata": {},
   "outputs": [
    {
     "name": "stdout",
     "output_type": "stream",
     "text": [
      "You have watched Interstellar.\n",
      "The color Sea Green is in my favorite colors.\n"
     ]
    }
   ],
   "source": [
    "if favoriteMovie[3]:\n",
    "    print(f\"You have watched {favoriteMovie[0]}.\")\n",
    "else:\n",
    "    print(f\"You have not watched yet.\")\n",
    "    \n",
    "mostFavorite = \"Sea Green\"\n",
    "\n",
    "if mostFavorite in favoriteColors:\n",
    "    print(f\"The color {mostFavorite} is in my favorite colors.\")\n",
    "else:\n",
    "    print(f\"The color {mostFavorite} is not in my favorite colors.\")"
   ]
  },
  {
   "cell_type": "markdown",
   "metadata": {},
   "source": [
    "$\\alpha^2$"
   ]
  }
 ],
 "metadata": {
  "kernelspec": {
   "display_name": "Python 3",
   "language": "python",
   "name": "python3"
  },
  "language_info": {
   "codemirror_mode": {
    "name": "ipython",
    "version": 3
   },
   "file_extension": ".py",
   "mimetype": "text/x-python",
   "name": "python",
   "nbconvert_exporter": "python",
   "pygments_lexer": "ipython3",
   "version": "3.11.3"
  }
 },
 "nbformat": 4,
 "nbformat_minor": 2
}
